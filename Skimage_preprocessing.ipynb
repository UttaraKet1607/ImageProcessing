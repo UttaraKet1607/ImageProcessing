{
 "cells": [
  {
   "cell_type": "markdown",
   "metadata": {},
   "source": [
    "## Image Preprocessing using skimage"
   ]
  },
  {
   "cell_type": "code",
   "execution_count": 9,
   "metadata": {},
   "outputs": [],
   "source": [
    "import sys\n",
    "import numpy as np\n",
    "import skimage.color\n",
    "import skimage.filters\n",
    "import skimage.io\n",
    "import skimage.viewer\n",
    "import matplotlib as plt\n",
    "%matplotlib inline\n",
    "from IPython.display import display "
   ]
  },
  {
   "cell_type": "code",
   "execution_count": 10,
   "metadata": {},
   "outputs": [],
   "source": [
    "filename =\"ISIC_0089569.jpg\"\n",
    "sigma = 1.0"
   ]
  },
  {
   "cell_type": "code",
   "execution_count": 11,
   "metadata": {},
   "outputs": [
    {
     "data": {
      "text/plain": [
       "[]"
      ]
     },
     "execution_count": 11,
     "metadata": {},
     "output_type": "execute_result"
    }
   ],
   "source": [
    "image = skimage.io.imread(fname=filename)\n",
    "viewer = skimage.viewer.ImageViewer(image)\n",
    "viewer.show() #output is displayed on image viewer"
   ]
  },
  {
   "cell_type": "code",
   "execution_count": 12,
   "metadata": {},
   "outputs": [],
   "source": [
    "blur = skimage.color.rgb2gray(image)\n",
    "blur = skimage.filters.gaussian(blur, sigma=sigma, multichannel=False)"
   ]
  },
  {
   "cell_type": "code",
   "execution_count": 13,
   "metadata": {},
   "outputs": [],
   "source": [
    "t = skimage.filters.threshold_otsu(blur)\n",
    "mask = blur < t"
   ]
  },
  {
   "cell_type": "code",
   "execution_count": 15,
   "metadata": {},
   "outputs": [
    {
     "data": {
      "text/plain": [
       "[]"
      ]
     },
     "execution_count": 15,
     "metadata": {},
     "output_type": "execute_result"
    }
   ],
   "source": [
    "viewer = skimage.viewer.ImageViewer(blur)\n",
    "viewer.show() #output is displayed on image viewer\n",
    "\n",
    "# use the mask to select the \"interesting\" part of the image\n",
    "sel = np.zeros_like(image)\n",
    "sel[mask] = image[mask]\n",
    "\n",
    "# display the result\n",
    "viewer = skimage.viewer.ImageViewer(sel)\n",
    "viewer.show() #output is displayed on image viewer"
   ]
  }
 ],
 "metadata": {
  "kernelspec": {
   "display_name": "Python 3",
   "language": "python",
   "name": "python3"
  },
  "language_info": {
   "codemirror_mode": {
    "name": "ipython",
    "version": 3
   },
   "file_extension": ".py",
   "mimetype": "text/x-python",
   "name": "python",
   "nbconvert_exporter": "python",
   "pygments_lexer": "ipython3",
   "version": "3.7.4"
  }
 },
 "nbformat": 4,
 "nbformat_minor": 2
}
